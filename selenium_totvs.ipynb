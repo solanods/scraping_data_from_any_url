{
 "cells": [
  {
   "cell_type": "code",
   "execution_count": 1,
   "id": "ea0db927",
   "metadata": {},
   "outputs": [],
   "source": [
    "import selenium\n",
    "from selenium import webdriver\n",
    "from selenium.webdriver.common.keys import Keys\n",
    "import re\n",
    "import time\n",
    "\n",
    "#login\n",
    "driver = webdriver.Chrome('/home/sol/notebooks/web_scraping/chromedriver')\n",
    "driver.get('https://portalrm.trensurb.gov.br/corpore.net/Login.aspx')#start url\n",
    "driver.maximize_window()\n",
    "driver.find_element_by_css_selector('.login-user').send_keys('1-002426')\n",
    "driver.find_element_by_css_selector('.login-password').send_keys('81837178020')\n",
    "driver.find_element_by_css_selector('.login-button').click()\n",
    "\n",
    "#lists\n",
    "datas = []\n",
    "codigos = []\n",
    "trocas = []\n",
    "chapas =['000226',\n",
    "'000229',\n",
    "'000244']\n",
    "\n",
    "#web scraping\n",
    "for chapa in chapas:\n",
    "    driver.get(f'https://portalrm.trensurb.gov.br/Corpore.Net/Main.aspx?AnnexCustomCaption=Alterar%20Hor%C3%A1rio%20e%20Letra&MasterCaptionForAnnex=:%201;{chapa}&ActionID=PtoPFuncActionWeb&MasterActionID=FopEquipeActionWeb&ShowMode=3&AnnexKeyValues=1;{chapa}')\n",
    "    time.sleep(2)\n",
    "    dados = driver.find_element_by_xpath('//*[@id=\"ViewControl_MainGridView\"]/tbody/tr[2]').text\n",
    "    data = dados[6:16]\n",
    "    cod = dados[:6]\n",
    "    troca = dados[16:]\n",
    "    datas.append(data)\n",
    "    codigos.append(cod)\n",
    "    trocas.append(troca)\n",
    "\n",
    "    \n",
    "\n"
   ]
  },
  {
   "cell_type": "code",
   "execution_count": 2,
   "id": "cf833af9",
   "metadata": {},
   "outputs": [],
   "source": [
    "import pandas as pd"
   ]
  },
  {
   "cell_type": "code",
   "execution_count": 3,
   "id": "46ad7e03",
   "metadata": {},
   "outputs": [],
   "source": [
    "df = pd.DataFrame(list(zip(chapas,datas,codigos,trocas)), columns = ['RE','ULTIMA_TROCA', 'CODIGO', 'TROCA'])"
   ]
  },
  {
   "cell_type": "code",
   "execution_count": 4,
   "id": "8503ea59",
   "metadata": {},
   "outputs": [
    {
     "data": {
      "text/html": [
       "<div>\n",
       "<style scoped>\n",
       "    .dataframe tbody tr th:only-of-type {\n",
       "        vertical-align: middle;\n",
       "    }\n",
       "\n",
       "    .dataframe tbody tr th {\n",
       "        vertical-align: top;\n",
       "    }\n",
       "\n",
       "    .dataframe thead th {\n",
       "        text-align: right;\n",
       "    }\n",
       "</style>\n",
       "<table border=\"1\" class=\"dataframe\">\n",
       "  <thead>\n",
       "    <tr style=\"text-align: right;\">\n",
       "      <th></th>\n",
       "      <th>RE</th>\n",
       "      <th>ULTIMA_TROCA</th>\n",
       "      <th>CODIGO</th>\n",
       "      <th>TROCA</th>\n",
       "    </tr>\n",
       "  </thead>\n",
       "  <tbody>\n",
       "    <tr>\n",
       "      <th>0</th>\n",
       "      <td>000226</td>\n",
       "      <td>17/03/2022</td>\n",
       "      <td>01630</td>\n",
       "      <td>7 G SETRA REVEZ. TARDE (4X2X4) ( 13:15X21:45-...</td>\n",
       "    </tr>\n",
       "    <tr>\n",
       "      <th>1</th>\n",
       "      <td>000229</td>\n",
       "      <td>13/03/2022</td>\n",
       "      <td>01622</td>\n",
       "      <td>7 G SETRA REVEZ. MANHÃ (4X2X4) - ACORDO 2011 ...</td>\n",
       "    </tr>\n",
       "    <tr>\n",
       "      <th>2</th>\n",
       "      <td>000244</td>\n",
       "      <td>29/01/2022</td>\n",
       "      <td>01630</td>\n",
       "      <td>5 E SETRA REVEZ. TARDE (4X2X4) ( 13:15X21:45-...</td>\n",
       "    </tr>\n",
       "  </tbody>\n",
       "</table>\n",
       "</div>"
      ],
      "text/plain": [
       "       RE ULTIMA_TROCA  CODIGO  \\\n",
       "0  000226   17/03/2022  01630    \n",
       "1  000229   13/03/2022  01622    \n",
       "2  000244   29/01/2022  01630    \n",
       "\n",
       "                                               TROCA  \n",
       "0   7 G SETRA REVEZ. TARDE (4X2X4) ( 13:15X21:45-...  \n",
       "1   7 G SETRA REVEZ. MANHÃ (4X2X4) - ACORDO 2011 ...  \n",
       "2   5 E SETRA REVEZ. TARDE (4X2X4) ( 13:15X21:45-...  "
      ]
     },
     "execution_count": 4,
     "metadata": {},
     "output_type": "execute_result"
    }
   ],
   "source": [
    "#CREATE DATAFRAME\n",
    "df"
   ]
  },
  {
   "cell_type": "code",
   "execution_count": 5,
   "id": "45f09196",
   "metadata": {},
   "outputs": [
    {
     "data": {
      "text/plain": [
       "['17/03/2022', '13/03/2022', '29/01/2022']"
      ]
     },
     "execution_count": 5,
     "metadata": {},
     "output_type": "execute_result"
    }
   ],
   "source": [
    "datas"
   ]
  },
  {
   "cell_type": "code",
   "execution_count": 6,
   "id": "8413fa8d",
   "metadata": {},
   "outputs": [
    {
     "data": {
      "text/plain": [
       "['000226', '000229', '000244']"
      ]
     },
     "execution_count": 6,
     "metadata": {},
     "output_type": "execute_result"
    }
   ],
   "source": [
    "chapas"
   ]
  },
  {
   "cell_type": "code",
   "execution_count": 16,
   "id": "c6557f68",
   "metadata": {},
   "outputs": [],
   "source": [
    "#CHANGE THE TIPE FROM STRING TO DATETIME\n",
    "df['ULTIMA_TROCA'] = pd.to_datetime(df['ULTIMA_TROCA'])"
   ]
  },
  {
   "cell_type": "code",
   "execution_count": 17,
   "id": "248f7618",
   "metadata": {},
   "outputs": [
    {
     "data": {
      "text/html": [
       "<div>\n",
       "<style scoped>\n",
       "    .dataframe tbody tr th:only-of-type {\n",
       "        vertical-align: middle;\n",
       "    }\n",
       "\n",
       "    .dataframe tbody tr th {\n",
       "        vertical-align: top;\n",
       "    }\n",
       "\n",
       "    .dataframe thead th {\n",
       "        text-align: right;\n",
       "    }\n",
       "</style>\n",
       "<table border=\"1\" class=\"dataframe\">\n",
       "  <thead>\n",
       "    <tr style=\"text-align: right;\">\n",
       "      <th></th>\n",
       "      <th>RE</th>\n",
       "      <th>ULTIMA_TROCA</th>\n",
       "      <th>CODIGO</th>\n",
       "      <th>TROCA</th>\n",
       "    </tr>\n",
       "  </thead>\n",
       "  <tbody>\n",
       "    <tr>\n",
       "      <th>0</th>\n",
       "      <td>000226</td>\n",
       "      <td>2022-03-17</td>\n",
       "      <td>01630</td>\n",
       "      <td>7 G SETRA REVEZ. TARDE (4X2X4) ( 13:15X21:45-...</td>\n",
       "    </tr>\n",
       "    <tr>\n",
       "      <th>1</th>\n",
       "      <td>000229</td>\n",
       "      <td>2022-03-13</td>\n",
       "      <td>01622</td>\n",
       "      <td>7 G SETRA REVEZ. MANHÃ (4X2X4) - ACORDO 2011 ...</td>\n",
       "    </tr>\n",
       "    <tr>\n",
       "      <th>2</th>\n",
       "      <td>000244</td>\n",
       "      <td>2022-01-29</td>\n",
       "      <td>01630</td>\n",
       "      <td>5 E SETRA REVEZ. TARDE (4X2X4) ( 13:15X21:45-...</td>\n",
       "    </tr>\n",
       "  </tbody>\n",
       "</table>\n",
       "</div>"
      ],
      "text/plain": [
       "       RE ULTIMA_TROCA  CODIGO  \\\n",
       "0  000226   2022-03-17  01630    \n",
       "1  000229   2022-03-13  01622    \n",
       "2  000244   2022-01-29  01630    \n",
       "\n",
       "                                               TROCA  \n",
       "0   7 G SETRA REVEZ. TARDE (4X2X4) ( 13:15X21:45-...  \n",
       "1   7 G SETRA REVEZ. MANHÃ (4X2X4) - ACORDO 2011 ...  \n",
       "2   5 E SETRA REVEZ. TARDE (4X2X4) ( 13:15X21:45-...  "
      ]
     },
     "execution_count": 17,
     "metadata": {},
     "output_type": "execute_result"
    }
   ],
   "source": [
    "#SORT BY LAST UPDATED\n",
    "df.sort_values(by=['ULTIMA_TROCA'], ascending=False)"
   ]
  },
  {
   "cell_type": "code",
   "execution_count": null,
   "id": "271e94e5",
   "metadata": {},
   "outputs": [],
   "source": []
  }
 ],
 "metadata": {
  "kernelspec": {
   "display_name": "Python 3 (ipykernel)",
   "language": "python",
   "name": "python3"
  },
  "language_info": {
   "codemirror_mode": {
    "name": "ipython",
    "version": 3
   },
   "file_extension": ".py",
   "mimetype": "text/x-python",
   "name": "python",
   "nbconvert_exporter": "python",
   "pygments_lexer": "ipython3",
   "version": "3.8.8"
  }
 },
 "nbformat": 4,
 "nbformat_minor": 5
}
