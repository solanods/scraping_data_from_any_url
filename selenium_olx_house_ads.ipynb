{
 "cells": [
  {
   "cell_type": "code",
   "execution_count": 21,
   "id": "d64eb717",
   "metadata": {},
   "outputs": [],
   "source": [
    "#imports\n",
    "import requests\n",
    "import selenium\n",
    "from bs4 import BeautifulSoup\n",
    "from selenium import webdriver\n",
    "import time\n",
    "import pyautogui as pag\n",
    "import re"
   ]
  },
  {
   "cell_type": "code",
   "execution_count": 22,
   "id": "b5a63a0e",
   "metadata": {},
   "outputs": [],
   "source": [
    "#insert here the start filtered url\n",
    "start_url = 'https://rs.olx.com.br/regioes-de-porto-alegre-torres-e-santa-cruz-do-sul/grande-porto-alegre/novo-hamburgo/imoveis/venda/casas?pe=600000&ps=300000'\n",
    "#instantiate the browser object\n",
    "driver = webdriver.Chrome('/home/sol/notebooks/web_scraper_python/chromedriver')\n",
    "#open the page\n",
    "driver.get(start_url)\n",
    "driver.maximize_window()\n",
    "\n"
   ]
  },
  {
   "cell_type": "code",
   "execution_count": 23,
   "id": "e7cfb90f",
   "metadata": {},
   "outputs": [],
   "source": [
    "#get all the links from the first page\n",
    "links = driver.find_elements_by_tag_name('a')\n",
    "lista = []\n",
    "for link in links:\n",
    "    lista.append(link.get_attribute('href'))"
   ]
  },
  {
   "cell_type": "code",
   "execution_count": 4,
   "id": "1323a116",
   "metadata": {},
   "outputs": [
    {
     "data": {
      "text/plain": [
       "['https://ajuda.olx.com.br/s/article/politica-de-cookies-olx',\n",
       " 'https://www.olx.com.br/',\n",
       " 'https://www.olx.com.br/brasil',\n",
       " 'https://planoprofissional.olx.com.br/',\n",
       " 'https://www3.olx.com.br/account/userads',\n",
       " 'https://conta.olx.com.br/chats',\n",
       " 'https://www3.olx.com.br/account/userads',\n",
       " 'https://www2.olx.com.br/desapega',\n",
       " 'https://www3.olx.com.br/account/form_login',\n",
       " 'https://www.olx.com.br/brasil',\n",
       " 'https://www3.olx.com.br/account/userads',\n",
       " 'https://conta.olx.com.br/chats',\n",
       " 'https://olx.com.br/brasil',\n",
       " 'https://conta.olx.com.br/favoritos',\n",
       " 'https://ajuda.olx.com.br/',\n",
       " 'https://itunes.apple.com/br/app/apple-store/id692808319?pt=839460&ct=footer-mobile&mt=8',\n",
       " 'https://play.google.com/store/apps/details?id=com.schibsted.bomnegocio.androidApp&hl=pt_BR&utm_source=mobile&utm_campaign=footer',\n",
       " 'https://www.facebook.com/olxbrasil',\n",
       " 'https://www.linkedin.com/company/olx-brasil',\n",
       " 'https://instagram.com/olxbrasil',\n",
       " 'https://twitter.com/olx_Brasil',\n",
       " 'https://www.youtube.com/user/OLXBrasil',\n",
       " 'https://www.olx.com.br/faq.htm',\n",
       " 'https://www.olx.com.br/seguranca',\n",
       " 'https://www.olx.com.br/vender',\n",
       " 'https://www.olx.com.br/planos',\n",
       " 'https://www.facebook.com/olxbrasil',\n",
       " 'https://www.youtube.com/user/OLXBrasil',\n",
       " 'https://www.linkedin.com/company/olx-brasil',\n",
       " 'https://instagram.com/olxbrasil',\n",
       " 'https://twitter.com/olx_Brasil',\n",
       " 'https://portal.olx.com.br/',\n",
       " 'https://www.olx.com.br/copyright.htm',\n",
       " 'https://ajuda.olx.com.br/s/article/politica-de-privacidade',\n",
       " 'https://ajuda.olx.com.br/s/article/protecao-a-propriedade']"
      ]
     },
     "execution_count": 4,
     "metadata": {},
     "output_type": "execute_result"
    }
   ],
   "source": [
    "lista"
   ]
  },
  {
   "cell_type": "markdown",
   "id": "e8c0a297",
   "metadata": {},
   "source": [
    "# Methods for filter a list"
   ]
  },
  {
   "cell_type": "code",
   "execution_count": 24,
   "id": "0f21e0aa",
   "metadata": {},
   "outputs": [],
   "source": [
    "#removing the none objects and leaving only the strings\n",
    "lista_so_strings = []\n",
    "for i in lista:\n",
    "    if isinstance(i, str):\n",
    "        lista_so_strings.append(i)"
   ]
  },
  {
   "cell_type": "code",
   "execution_count": 6,
   "id": "9453b3ae",
   "metadata": {},
   "outputs": [
    {
     "data": {
      "text/plain": [
       "['https://ajuda.olx.com.br/s/article/politica-de-cookies-olx',\n",
       " 'https://www.olx.com.br/',\n",
       " 'https://www.olx.com.br/brasil',\n",
       " 'https://planoprofissional.olx.com.br/',\n",
       " 'https://www3.olx.com.br/account/userads',\n",
       " 'https://conta.olx.com.br/chats',\n",
       " 'https://www3.olx.com.br/account/userads',\n",
       " 'https://www2.olx.com.br/desapega',\n",
       " 'https://www3.olx.com.br/account/form_login',\n",
       " 'https://www.olx.com.br/brasil',\n",
       " 'https://www3.olx.com.br/account/userads',\n",
       " 'https://conta.olx.com.br/chats',\n",
       " 'https://olx.com.br/brasil',\n",
       " 'https://conta.olx.com.br/favoritos',\n",
       " 'https://ajuda.olx.com.br/',\n",
       " 'https://itunes.apple.com/br/app/apple-store/id692808319?pt=839460&ct=footer-mobile&mt=8',\n",
       " 'https://play.google.com/store/apps/details?id=com.schibsted.bomnegocio.androidApp&hl=pt_BR&utm_source=mobile&utm_campaign=footer',\n",
       " 'https://www.facebook.com/olxbrasil',\n",
       " 'https://www.linkedin.com/company/olx-brasil',\n",
       " 'https://instagram.com/olxbrasil',\n",
       " 'https://twitter.com/olx_Brasil',\n",
       " 'https://www.youtube.com/user/OLXBrasil',\n",
       " 'https://www.olx.com.br/faq.htm',\n",
       " 'https://www.olx.com.br/seguranca',\n",
       " 'https://www.olx.com.br/vender',\n",
       " 'https://www.olx.com.br/planos',\n",
       " 'https://www.facebook.com/olxbrasil',\n",
       " 'https://www.youtube.com/user/OLXBrasil',\n",
       " 'https://www.linkedin.com/company/olx-brasil',\n",
       " 'https://instagram.com/olxbrasil',\n",
       " 'https://twitter.com/olx_Brasil',\n",
       " 'https://portal.olx.com.br/',\n",
       " 'https://www.olx.com.br/copyright.htm',\n",
       " 'https://ajuda.olx.com.br/s/article/politica-de-privacidade',\n",
       " 'https://ajuda.olx.com.br/s/article/protecao-a-propriedade']"
      ]
     },
     "execution_count": 6,
     "metadata": {},
     "output_type": "execute_result"
    }
   ],
   "source": [
    "lista_so_strings"
   ]
  },
  {
   "cell_type": "code",
   "execution_count": 25,
   "id": "9f78704e",
   "metadata": {},
   "outputs": [
    {
     "data": {
      "text/plain": [
       "['https://rs.olx.com.br/regioes-de-porto-alegre-torres-e-santa-cruz-do-sul/imoveis/casa-para-venda-possui-223-metros-quadrados-com-3-quartos-em-ouro-branco-novo-hamburgo-950459307']"
      ]
     },
     "execution_count": 25,
     "metadata": {},
     "output_type": "execute_result"
    }
   ],
   "source": [
    "#using a list compreension with a substring\n",
    "filtered_list_1 = [s for s in lista_so_strings if \"possui-223-metros\" in s]\n",
    "filtered_list_1"
   ]
  },
  {
   "cell_type": "code",
   "execution_count": 26,
   "id": "16d9ff9a",
   "metadata": {},
   "outputs": [
    {
     "data": {
      "text/plain": [
       "['https://rs.olx.com.br/regioes-de-porto-alegre-torres-e-santa-cruz-do-sul/imoveis/casa-para-venda-possui-223-metros-quadrados-com-3-quartos-em-ouro-branco-novo-hamburgo-950459307']"
      ]
     },
     "execution_count": 26,
     "metadata": {},
     "output_type": "execute_result"
    }
   ],
   "source": [
    "#the same now using __contains__\n",
    "filtered_list_1 = [s for s in lista_so_strings if s.__contains__(\"possui-223-metros\")]\n",
    "filtered_list_1"
   ]
  },
  {
   "cell_type": "code",
   "execution_count": 27,
   "id": "186847ac",
   "metadata": {},
   "outputs": [
    {
     "data": {
      "text/plain": [
       "['https://rs.olx.com.br/regioes-de-porto-alegre-torres-e-santa-cruz-do-sul/imoveis/casa-a-venda-com-2-dormitorios-em-petropolis-novo-hamburgo-cod-334856-880458854',\n",
       " 'https://rs.olx.com.br/regioes-de-porto-alegre-torres-e-santa-cruz-do-sul/imoveis/casa-a-venda-com-5-dormitorios-em-jardim-maua-novo-hamburgo-cod-14837-680480376',\n",
       " 'https://rs.olx.com.br/regioes-de-porto-alegre-torres-e-santa-cruz-do-sul/imoveis/venda-sobrado-em-condominio-fechado-no-bairro-rondonia-em-novo-hamburgo-941509637',\n",
       " 'https://rs.olx.com.br/regioes-de-porto-alegre-torres-e-santa-cruz-do-sul/imoveis/exclusividade-no-boa-vista-nh--946610721',\n",
       " 'https://rs.olx.com.br/regioes-de-porto-alegre-torres-e-santa-cruz-do-sul/imoveis/novo-hamburgo-casa-padrao-rincao-937058830',\n",
       " 'https://rs.olx.com.br/regioes-de-porto-alegre-torres-e-santa-cruz-do-sul/imoveis/casa-a-venda-com-3-dormitorios-em-jardim-maua-novo-hamburgo-cod-6938-739849419',\n",
       " 'https://rs.olx.com.br/regioes-de-porto-alegre-torres-e-santa-cruz-do-sul/imoveis/casa-para-venda-com-123-metros-quadrados-com-3-quartos-em-rondonia-novo-hamburgo-rs-950459041',\n",
       " 'https://rs.olx.com.br/regioes-de-porto-alegre-torres-e-santa-cruz-do-sul/imoveis/casa-com-3-dormitorios-a-venda-111-m-por-r-600-000-00-boa-vista-novo-hamburgo-rs-952145028',\n",
       " 'https://rs.olx.com.br/regioes-de-porto-alegre-torres-e-santa-cruz-do-sul/imoveis/oportunidade-de-casa-no-bairro-operario-952144991',\n",
       " 'https://rs.olx.com.br/regioes-de-porto-alegre-torres-e-santa-cruz-do-sul/imoveis/casa-para-venda-com-177-metros-quadrados-com-2-quartos-1-com-suite-em-canudos-novo-hamb-949931428',\n",
       " 'https://rs.olx.com.br/regioes-de-porto-alegre-torres-e-santa-cruz-do-sul/imoveis/novo-hamburgo-casa-padrao-petropolis-937070646',\n",
       " 'https://rs.olx.com.br/regioes-de-porto-alegre-torres-e-santa-cruz-do-sul/imoveis/novo-hamburgo-casa-padrao-industrial-937075963',\n",
       " 'https://rs.olx.com.br/regioes-de-porto-alegre-torres-e-santa-cruz-do-sul/imoveis/casa-a-venda-com-3-dormitorios-em-canudos-novo-hamburgo-cod-10509-740593130',\n",
       " 'https://rs.olx.com.br/regioes-de-porto-alegre-torres-e-santa-cruz-do-sul/imoveis/casa-a-venda-103-m-por-r-495-000-00-patria-nova-novo-hamburgo-rs-952144989',\n",
       " 'https://rs.olx.com.br/regioes-de-porto-alegre-torres-e-santa-cruz-do-sul/imoveis/novo-hamburgo-casa-padrao-ideal-937076550',\n",
       " 'https://rs.olx.com.br/regioes-de-porto-alegre-torres-e-santa-cruz-do-sul/imoveis/casa-para-venda-possui-121-metros-quadrados-com-3-quartos-em-petropolis-novo-hamburgo-937059821',\n",
       " 'https://rs.olx.com.br/regioes-de-porto-alegre-torres-e-santa-cruz-do-sul/imoveis/casa-a-venda-com-2-dormitorios-em-rincao-novo-hamburgo-cod-15628-703267446',\n",
       " 'https://rs.olx.com.br/regioes-de-porto-alegre-torres-e-santa-cruz-do-sul/imoveis/casa-a-venda-com-3-dormitorios-em-guarani-novo-hamburgo-cod-2262-652304748',\n",
       " 'https://rs.olx.com.br/regioes-de-porto-alegre-torres-e-santa-cruz-do-sul/imoveis/casa-para-venda-com-138-metros-quadrados-com-3-quartos-em-canudos-novo-hamburgo-rs-949942601',\n",
       " 'https://rs.olx.com.br/regioes-de-porto-alegre-torres-e-santa-cruz-do-sul/imoveis/casa-mista-956219398',\n",
       " 'https://rs.olx.com.br/regioes-de-porto-alegre-torres-e-santa-cruz-do-sul/imoveis/casa-a-venda-com-3-dormitorios-em-canudos-novo-hamburgo-cod-9943-703266979',\n",
       " 'https://rs.olx.com.br/regioes-de-porto-alegre-torres-e-santa-cruz-do-sul/imoveis/casa-com-3-dormitorios-a-venda-956192581',\n",
       " 'https://rs.olx.com.br/regioes-de-porto-alegre-torres-e-santa-cruz-do-sul/imoveis/casa-novo-hamburgo-954224257',\n",
       " 'https://rs.olx.com.br/regioes-de-porto-alegre-torres-e-santa-cruz-do-sul/imoveis/avalia-permuta-por-apartamento-em-capao-da-canoa-rs-893443049',\n",
       " 'https://rs.olx.com.br/regioes-de-porto-alegre-torres-e-santa-cruz-do-sul/imoveis/bela-casa-com-tres-dormitorios-sendo-2-suites-no-bairro-liberdade-em-novo-hamburgo-916392765',\n",
       " 'https://rs.olx.com.br/regioes-de-porto-alegre-torres-e-santa-cruz-do-sul/imoveis/casa-a-venda-com-4-dormitorios-em-canudos-novo-hamburgo-cod-356310-956127512',\n",
       " 'https://rs.olx.com.br/regioes-de-porto-alegre-torres-e-santa-cruz-do-sul/imoveis/casa-a-venda-com-2-dormitorios-em-petropolis-novo-hamburgo-cod-356497-956127500',\n",
       " 'https://rs.olx.com.br/regioes-de-porto-alegre-torres-e-santa-cruz-do-sul/imoveis/casa-a-venda-com-2-dormitorios-em-petropolis-novo-hamburgo-cod-356504-956127482',\n",
       " 'https://rs.olx.com.br/regioes-de-porto-alegre-torres-e-santa-cruz-do-sul/imoveis/casa-em-lugar-com-linda-vista-proximo-ao-centro-de-lomba-grande-919427599',\n",
       " 'https://rs.olx.com.br/regioes-de-porto-alegre-torres-e-santa-cruz-do-sul/imoveis/casa-de-condominio-para-venda-com-129-metros-quadrados-com-3-quartos-950459011',\n",
       " 'https://rs.olx.com.br/regioes-de-porto-alegre-torres-e-santa-cruz-do-sul/imoveis/casa-a-venda-em-canudos-novo-hamburgo-cod-18671-785981168',\n",
       " 'https://rs.olx.com.br/regioes-de-porto-alegre-torres-e-santa-cruz-do-sul/imoveis/novo-hamburgo-casa-padrao-ouro-branco-937075761',\n",
       " 'https://rs.olx.com.br/regioes-de-porto-alegre-torres-e-santa-cruz-do-sul/imoveis/casa-a-venda-com-3-dormitorios-em-rondonia-novo-hamburgo-cod-196881-898448253',\n",
       " 'https://rs.olx.com.br/regioes-de-porto-alegre-torres-e-santa-cruz-do-sul/imoveis/novo-hamburgo-casa-padrao-petropolis-902266528',\n",
       " 'https://rs.olx.com.br/regioes-de-porto-alegre-torres-e-santa-cruz-do-sul/imoveis/casa-em-lomba-grande-956025816',\n",
       " 'https://rs.olx.com.br/regioes-de-porto-alegre-torres-e-santa-cruz-do-sul/imoveis/casa-lomba-grande-novo-hamburgo-950373027',\n",
       " 'https://rs.olx.com.br/regioes-de-porto-alegre-torres-e-santa-cruz-do-sul/imoveis/casa-para-venda-com-165-metros-quadrados-com-3-quartos-em-ideal-novo-hamburgo-rs-908672012',\n",
       " 'https://rs.olx.com.br/regioes-de-porto-alegre-torres-e-santa-cruz-do-sul/imoveis/casa-a-venda-em-ideal-novo-hamburgo-cod-19834-901178730',\n",
       " 'https://rs.olx.com.br/regioes-de-porto-alegre-torres-e-santa-cruz-do-sul/imoveis/novo-hamburgo-casa-padrao-ouro-branco-925075570',\n",
       " 'https://rs.olx.com.br/regioes-de-porto-alegre-torres-e-santa-cruz-do-sul/imoveis/casa-a-venda-com-4-dormitorios-em-primavera-novo-hamburgo-cod-5249-703267013',\n",
       " 'https://rs.olx.com.br/regioes-de-porto-alegre-torres-e-santa-cruz-do-sul/imoveis/sobrado-para-venda-tem-145-metros-quadrados-com-3-quartos-em-operario-novo-hamburgo-rs-935167474',\n",
       " 'https://rs.olx.com.br/regioes-de-porto-alegre-torres-e-santa-cruz-do-sul/imoveis/novo-hamburgo-casa-padrao-rondonia-937058846',\n",
       " 'https://rs.olx.com.br/regioes-de-porto-alegre-torres-e-santa-cruz-do-sul/imoveis/casa-de-condominio-com-2-quartos-por-320-mil-918027846',\n",
       " 'https://rs.olx.com.br/regioes-de-porto-alegre-torres-e-santa-cruz-do-sul/imoveis/novo-hamburgo-casa-de-condominio-rondonia-937075664',\n",
       " 'https://rs.olx.com.br/regioes-de-porto-alegre-torres-e-santa-cruz-do-sul/imoveis/casa-para-venda-possui-223-metros-quadrados-com-3-quartos-em-ouro-branco-novo-hamburgo-950459307',\n",
       " 'https://rs.olx.com.br/regioes-de-porto-alegre-torres-e-santa-cruz-do-sul/imoveis/3-dormitorios-sendo-uma-suite-com-closet-3-banheiros-2-salas-lareira-cozinha-ampla-b-908672208',\n",
       " 'https://rs.olx.com.br/regioes-de-porto-alegre-torres-e-santa-cruz-do-sul/imoveis/casa-residencial-em-novo-hamburgo-rs-hamburgo-velho-932306353',\n",
       " 'https://rs.olx.com.br/regioes-de-porto-alegre-torres-e-santa-cruz-do-sul/imoveis/novo-hamburgo-casa-padrao-maua-955854006',\n",
       " 'https://rs.olx.com.br/regioes-de-porto-alegre-torres-e-santa-cruz-do-sul/imoveis/3-dormitorios-1-suite-parte-social-integrada-cozinha-americana-lavabo-banheiros-social-918198057',\n",
       " 'https://rs.olx.com.br/regioes-de-porto-alegre-torres-e-santa-cruz-do-sul/imoveis/casa-a-venda-com-3-dormitorios-em-rondonia-novo-hamburgo-cod-7005-703267117',\n",
       " 'https://rs.olx.com.br/regioes-de-porto-alegre-torres-e-santa-cruz-do-sul/imoveis/venda/casas?pe=600000&ps=300000']"
      ]
     },
     "execution_count": 27,
     "metadata": {},
     "output_type": "execute_result"
    }
   ],
   "source": [
    "#using regular expressions\n",
    "pattern = re.compile(r'https://rs.olx.com.br/regioes-de-porto-alegre-torres-e-santa-cruz-do-sul/imoveis')\n",
    "filtered_list_1 = [s for s in lista_so_strings if re.search('https://rs.olx.com.br/regioes-de-porto-alegre-torres-e-santa-cruz-do-sul/imoveis', s)]\n",
    "filtered_list_1\n",
    "                "
   ]
  },
  {
   "cell_type": "code",
   "execution_count": 28,
   "id": "534b12b8",
   "metadata": {
    "scrolled": true
   },
   "outputs": [
    {
     "data": {
      "text/plain": [
       "['https://rs.olx.com.br/regioes-de-porto-alegre-torres-e-santa-cruz-do-sul/grande-porto-alegre/novo-hamburgo/imoveis/venda/casas?o=17&pe=600000&ps=300000',\n",
       " 'https://rs.olx.com.br/regioes-de-porto-alegre-torres-e-santa-cruz-do-sul/grande-porto-alegre/novo-hamburgo/imoveis/venda/casas?o=6&pe=600000&ps=300000',\n",
       " 'https://rs.olx.com.br/regioes-de-porto-alegre-torres-e-santa-cruz-do-sul/grande-porto-alegre/novo-hamburgo/imoveis/venda/casas?o=8&pe=600000&ps=300000',\n",
       " 'https://rs.olx.com.br/regioes-de-porto-alegre-torres-e-santa-cruz-do-sul/grande-porto-alegre/novo-hamburgo/imoveis/venda/casas?o=4&pe=600000&ps=300000',\n",
       " 'https://rs.olx.com.br/regioes-de-porto-alegre-torres-e-santa-cruz-do-sul/grande-porto-alegre/novo-hamburgo/imoveis/venda/casas?o=10&pe=600000&ps=300000',\n",
       " 'https://rs.olx.com.br/regioes-de-porto-alegre-torres-e-santa-cruz-do-sul/grande-porto-alegre/novo-hamburgo/imoveis/venda/casas?o=7&pe=600000&ps=300000',\n",
       " 'https://rs.olx.com.br/regioes-de-porto-alegre-torres-e-santa-cruz-do-sul/grande-porto-alegre/novo-hamburgo/imoveis/venda/casas?o=2&pe=600000&ps=300000',\n",
       " 'https://rs.olx.com.br/regioes-de-porto-alegre-torres-e-santa-cruz-do-sul/grande-porto-alegre/novo-hamburgo/imoveis/venda/casas?o=9&pe=600000&ps=300000',\n",
       " 'https://rs.olx.com.br/regioes-de-porto-alegre-torres-e-santa-cruz-do-sul/grande-porto-alegre/novo-hamburgo/imoveis/venda/casas?o=5&pe=600000&ps=300000',\n",
       " 'https://rs.olx.com.br/regioes-de-porto-alegre-torres-e-santa-cruz-do-sul/grande-porto-alegre/novo-hamburgo/imoveis/venda/casas?o=3&pe=600000&ps=300000']"
      ]
     },
     "execution_count": 28,
     "metadata": {},
     "output_type": "execute_result"
    }
   ],
   "source": [
    "#all pagination links has '&pe'\n",
    "pagination_list = [s for s in lista if \"&pe=\" in str(s)]\n",
    "pagination_list = list(set(pagination_list))\n",
    "pagination_list"
   ]
  },
  {
   "cell_type": "code",
   "execution_count": 30,
   "id": "4df54769",
   "metadata": {},
   "outputs": [
    {
     "name": "stdout",
     "output_type": "stream",
     "text": [
      "Casa com 2 dormitórios à venda, 70 m² por R$ 320.000 - Ideal - Novo Hamburgo/RS\n",
      "320.000\n",
      "Casa à venda com 2 dormitórios em Hamburgo velho, Novo hamburgo cod:fe7cbafe30c\n",
      "422.500\n",
      "Casas à venda em Condomínio Fechado - Novo Hamburgo\n",
      "345.000\n",
      "Casa residencial à venda, Rincão, Novo Hamburgo.\n",
      "300.000\n",
      "Casa com 3 dormitórios à venda, 112 m² - Pátria Nova - Novo Hamburgo/RS\n",
      "499.000\n",
      "Casas em condomínio fechado com 2 dormitórios à venda, 103 m² - Pátria Nova - Novo Hamburg\n",
      "449.000\n",
      "Casa com 03 dormitórios e amplo no bairro Rincão - NH\n",
      "350.000\n",
      "Casa à venda com 2 dormitórios em Vila nova, Novo hamburgo cod:OT7456\n",
      "339.000\n",
      "Casa residencial à venda, Petrópolis, Novo Hamburgo.\n",
      "300.000\n",
      "Casa à venda com 4 dormitórios em Primavera, Novo hamburgo cod:2579\n",
      "350.000\n",
      "Casa com 3 dormitórios à venda por R$ 490.000 - Petrópolis - Novo Hamburgo/RS\n",
      "490.000\n",
      "Casa residencial à venda, Rondônia, Novo Hamburgo.\n",
      "300.000\n",
      "Casa residencial à venda, Primavera, Novo Hamburgo.\n",
      "400.000\n",
      "Casa à venda com 3 dormitórios em Guarani, Novo hamburgo cod:2553\n",
      "420.000\n",
      "Casa residencial à venda, Primavera, Novo Hamburgo.\n",
      "600.000\n",
      "Casa residencial à venda, Primavera, Novo Hamburgo.\n",
      "478.000\n",
      "Casa com 3 dormitórios à venda, 135 m² por R$ 399.000,00 - Rondônia - Novo Hamburgo/RS\n",
      "399.000\n",
      "Casa nova à venda em Novo Hamburgo\n",
      "371.000\n",
      "Casa com 3 dormitórios - Boa Vista - Novo Hamburgo/RS\n",
      "549.000\n",
      "Casa com 3 dormitórios com piscina\n",
      "580.000\n",
      "Casa à venda, 196 m² por R$ 330.000,00 - Boa Vista - Novo Hamburgo/RS\n",
      "330.000\n",
      "Casa com 2 dormitórios à venda, 197 m² por R$ 414.000,00 - Vila Nova - Novo Hamburgo/RS\n",
      "414.000\n",
      "Casa à venda, 232 m² por R$ 450.000,00 - Primavera - Novo Hamburgo/RS\n",
      "450.000\n",
      "Casa à venda com 3 dormitórios em Mauá, Novo hamburgo cod:LI1757\n",
      "440.000\n",
      "Casa à venda em Ouro branco, Novo hamburgo cod:TR8318\n",
      "414.000\n",
      "Sobrado Contemporâneo - Novo Hamburgo\n",
      "520.000\n",
      "Sobrado, 2 Dorm, Vila Nova, Novo Hamburgo\n",
      "410.000\n",
      "Sobrado, 3 Dorm, 1 Suite, Jardim Mauá, Novo Hamburgo\n",
      "380.000\n",
      "Sobrado Novo Moderno próximo ao Parcão de Novo Hamburgo\n",
      "510.000\n",
      "Casa 3 Dorm, 1 Suíte, Rondônia, Novo Hamburgo\n",
      "579.000\n",
      "Casa 3 Dorm, 1 Suíte, Rondônia, Novo Hamburgo\n",
      "579.000\n",
      "Casa\n",
      "370.000\n",
      "Casa à venda em Porto Alegre e região, RS\n"
     ]
    },
    {
     "ename": "NoSuchElementException",
     "evalue": "Message: no such element: Unable to locate element: {\"method\":\"css selector\",\"selector\":\".eQLrcK\"}\n  (Session info: chrome=95.0.4638.69)\n",
     "output_type": "error",
     "traceback": [
      "\u001b[0;31m---------------------------------------------------------------------------\u001b[0m",
      "\u001b[0;31mNoSuchElementException\u001b[0m                    Traceback (most recent call last)",
      "\u001b[0;32m/tmp/ipykernel_8943/257940509.py\u001b[0m in \u001b[0;36m<module>\u001b[0;34m\u001b[0m\n\u001b[1;32m     17\u001b[0m         \u001b[0mtime\u001b[0m\u001b[0;34m.\u001b[0m\u001b[0msleep\u001b[0m\u001b[0;34m(\u001b[0m\u001b[0;36m2\u001b[0m\u001b[0;34m)\u001b[0m\u001b[0;34m\u001b[0m\u001b[0;34m\u001b[0m\u001b[0m\n\u001b[1;32m     18\u001b[0m         \u001b[0mprint\u001b[0m\u001b[0;34m(\u001b[0m\u001b[0mdriver\u001b[0m\u001b[0;34m.\u001b[0m\u001b[0mfind_element_by_tag_name\u001b[0m\u001b[0;34m(\u001b[0m\u001b[0;34m'h1'\u001b[0m\u001b[0;34m)\u001b[0m\u001b[0;34m.\u001b[0m\u001b[0mtext\u001b[0m\u001b[0;34m)\u001b[0m\u001b[0;34m\u001b[0m\u001b[0;34m\u001b[0m\u001b[0m\n\u001b[0;32m---> 19\u001b[0;31m         \u001b[0mprint\u001b[0m\u001b[0;34m(\u001b[0m\u001b[0mdriver\u001b[0m\u001b[0;34m.\u001b[0m\u001b[0mfind_element_by_css_selector\u001b[0m\u001b[0;34m(\u001b[0m\u001b[0;34m'.eQLrcK'\u001b[0m\u001b[0;34m)\u001b[0m\u001b[0;34m.\u001b[0m\u001b[0mtext\u001b[0m\u001b[0;34m)\u001b[0m\u001b[0;34m\u001b[0m\u001b[0;34m\u001b[0m\u001b[0m\n\u001b[0m\u001b[1;32m     20\u001b[0m \u001b[0;34m\u001b[0m\u001b[0m\n\u001b[1;32m     21\u001b[0m \u001b[0;34m\u001b[0m\u001b[0m\n",
      "\u001b[0;32m~/anaconda3/lib/python3.8/site-packages/selenium/webdriver/remote/webdriver.py\u001b[0m in \u001b[0;36mfind_element_by_css_selector\u001b[0;34m(self, css_selector)\u001b[0m\n\u001b[1;32m    596\u001b[0m             \u001b[0melement\u001b[0m \u001b[0;34m=\u001b[0m \u001b[0mdriver\u001b[0m\u001b[0;34m.\u001b[0m\u001b[0mfind_element_by_css_selector\u001b[0m\u001b[0;34m(\u001b[0m\u001b[0;34m'#foo'\u001b[0m\u001b[0;34m)\u001b[0m\u001b[0;34m\u001b[0m\u001b[0;34m\u001b[0m\u001b[0m\n\u001b[1;32m    597\u001b[0m         \"\"\"\n\u001b[0;32m--> 598\u001b[0;31m         \u001b[0;32mreturn\u001b[0m \u001b[0mself\u001b[0m\u001b[0;34m.\u001b[0m\u001b[0mfind_element\u001b[0m\u001b[0;34m(\u001b[0m\u001b[0mby\u001b[0m\u001b[0;34m=\u001b[0m\u001b[0mBy\u001b[0m\u001b[0;34m.\u001b[0m\u001b[0mCSS_SELECTOR\u001b[0m\u001b[0;34m,\u001b[0m \u001b[0mvalue\u001b[0m\u001b[0;34m=\u001b[0m\u001b[0mcss_selector\u001b[0m\u001b[0;34m)\u001b[0m\u001b[0;34m\u001b[0m\u001b[0;34m\u001b[0m\u001b[0m\n\u001b[0m\u001b[1;32m    599\u001b[0m \u001b[0;34m\u001b[0m\u001b[0m\n\u001b[1;32m    600\u001b[0m     \u001b[0;32mdef\u001b[0m \u001b[0mfind_elements_by_css_selector\u001b[0m\u001b[0;34m(\u001b[0m\u001b[0mself\u001b[0m\u001b[0;34m,\u001b[0m \u001b[0mcss_selector\u001b[0m\u001b[0;34m)\u001b[0m\u001b[0;34m:\u001b[0m\u001b[0;34m\u001b[0m\u001b[0;34m\u001b[0m\u001b[0m\n",
      "\u001b[0;32m~/anaconda3/lib/python3.8/site-packages/selenium/webdriver/remote/webdriver.py\u001b[0m in \u001b[0;36mfind_element\u001b[0;34m(self, by, value)\u001b[0m\n\u001b[1;32m    974\u001b[0m                 \u001b[0mby\u001b[0m \u001b[0;34m=\u001b[0m \u001b[0mBy\u001b[0m\u001b[0;34m.\u001b[0m\u001b[0mCSS_SELECTOR\u001b[0m\u001b[0;34m\u001b[0m\u001b[0;34m\u001b[0m\u001b[0m\n\u001b[1;32m    975\u001b[0m                 \u001b[0mvalue\u001b[0m \u001b[0;34m=\u001b[0m \u001b[0;34m'[name=\"%s\"]'\u001b[0m \u001b[0;34m%\u001b[0m \u001b[0mvalue\u001b[0m\u001b[0;34m\u001b[0m\u001b[0;34m\u001b[0m\u001b[0m\n\u001b[0;32m--> 976\u001b[0;31m         return self.execute(Command.FIND_ELEMENT, {\n\u001b[0m\u001b[1;32m    977\u001b[0m             \u001b[0;34m'using'\u001b[0m\u001b[0;34m:\u001b[0m \u001b[0mby\u001b[0m\u001b[0;34m,\u001b[0m\u001b[0;34m\u001b[0m\u001b[0;34m\u001b[0m\u001b[0m\n\u001b[1;32m    978\u001b[0m             'value': value})['value']\n",
      "\u001b[0;32m~/anaconda3/lib/python3.8/site-packages/selenium/webdriver/remote/webdriver.py\u001b[0m in \u001b[0;36mexecute\u001b[0;34m(self, driver_command, params)\u001b[0m\n\u001b[1;32m    319\u001b[0m         \u001b[0mresponse\u001b[0m \u001b[0;34m=\u001b[0m \u001b[0mself\u001b[0m\u001b[0;34m.\u001b[0m\u001b[0mcommand_executor\u001b[0m\u001b[0;34m.\u001b[0m\u001b[0mexecute\u001b[0m\u001b[0;34m(\u001b[0m\u001b[0mdriver_command\u001b[0m\u001b[0;34m,\u001b[0m \u001b[0mparams\u001b[0m\u001b[0;34m)\u001b[0m\u001b[0;34m\u001b[0m\u001b[0;34m\u001b[0m\u001b[0m\n\u001b[1;32m    320\u001b[0m         \u001b[0;32mif\u001b[0m \u001b[0mresponse\u001b[0m\u001b[0;34m:\u001b[0m\u001b[0;34m\u001b[0m\u001b[0;34m\u001b[0m\u001b[0m\n\u001b[0;32m--> 321\u001b[0;31m             \u001b[0mself\u001b[0m\u001b[0;34m.\u001b[0m\u001b[0merror_handler\u001b[0m\u001b[0;34m.\u001b[0m\u001b[0mcheck_response\u001b[0m\u001b[0;34m(\u001b[0m\u001b[0mresponse\u001b[0m\u001b[0;34m)\u001b[0m\u001b[0;34m\u001b[0m\u001b[0;34m\u001b[0m\u001b[0m\n\u001b[0m\u001b[1;32m    322\u001b[0m             response['value'] = self._unwrap_value(\n\u001b[1;32m    323\u001b[0m                 response.get('value', None))\n",
      "\u001b[0;32m~/anaconda3/lib/python3.8/site-packages/selenium/webdriver/remote/errorhandler.py\u001b[0m in \u001b[0;36mcheck_response\u001b[0;34m(self, response)\u001b[0m\n\u001b[1;32m    240\u001b[0m                 \u001b[0malert_text\u001b[0m \u001b[0;34m=\u001b[0m \u001b[0mvalue\u001b[0m\u001b[0;34m[\u001b[0m\u001b[0;34m'alert'\u001b[0m\u001b[0;34m]\u001b[0m\u001b[0;34m.\u001b[0m\u001b[0mget\u001b[0m\u001b[0;34m(\u001b[0m\u001b[0;34m'text'\u001b[0m\u001b[0;34m)\u001b[0m\u001b[0;34m\u001b[0m\u001b[0;34m\u001b[0m\u001b[0m\n\u001b[1;32m    241\u001b[0m             \u001b[0;32mraise\u001b[0m \u001b[0mexception_class\u001b[0m\u001b[0;34m(\u001b[0m\u001b[0mmessage\u001b[0m\u001b[0;34m,\u001b[0m \u001b[0mscreen\u001b[0m\u001b[0;34m,\u001b[0m \u001b[0mstacktrace\u001b[0m\u001b[0;34m,\u001b[0m \u001b[0malert_text\u001b[0m\u001b[0;34m)\u001b[0m\u001b[0;34m\u001b[0m\u001b[0;34m\u001b[0m\u001b[0m\n\u001b[0;32m--> 242\u001b[0;31m         \u001b[0;32mraise\u001b[0m \u001b[0mexception_class\u001b[0m\u001b[0;34m(\u001b[0m\u001b[0mmessage\u001b[0m\u001b[0;34m,\u001b[0m \u001b[0mscreen\u001b[0m\u001b[0;34m,\u001b[0m \u001b[0mstacktrace\u001b[0m\u001b[0;34m)\u001b[0m\u001b[0;34m\u001b[0m\u001b[0;34m\u001b[0m\u001b[0m\n\u001b[0m\u001b[1;32m    243\u001b[0m \u001b[0;34m\u001b[0m\u001b[0m\n\u001b[1;32m    244\u001b[0m     \u001b[0;32mdef\u001b[0m \u001b[0m_value_or_default\u001b[0m\u001b[0;34m(\u001b[0m\u001b[0mself\u001b[0m\u001b[0;34m,\u001b[0m \u001b[0mobj\u001b[0m\u001b[0;34m,\u001b[0m \u001b[0mkey\u001b[0m\u001b[0;34m,\u001b[0m \u001b[0mdefault\u001b[0m\u001b[0;34m)\u001b[0m\u001b[0;34m:\u001b[0m\u001b[0;34m\u001b[0m\u001b[0;34m\u001b[0m\u001b[0m\n",
      "\u001b[0;31mNoSuchElementException\u001b[0m: Message: no such element: Unable to locate element: {\"method\":\"css selector\",\"selector\":\".eQLrcK\"}\n  (Session info: chrome=95.0.4638.69)\n"
     ]
    }
   ],
   "source": [
    "for link in pagination_list:\n",
    "    driver.get(link)\n",
    "    driver.maximize_window()\n",
    "    links = driver.find_elements_by_tag_name('a')\n",
    "    lista = []\n",
    "    for link in links:\n",
    "        lista.append(link.get_attribute('href'))\n",
    "    lista_so_strings = []\n",
    "    for i in lista:\n",
    "        if isinstance(i, str):\n",
    "            lista_so_strings.append(i)\n",
    "    pattern = re.compile(r'https://rs.olx.com.br/regioes-de-porto-alegre-torres-e-santa-cruz-do-sul/imoveis')\n",
    "    filtered_list_1 = [s for s in lista_so_strings if re.search('https://rs.olx.com.br/regioes-de-porto-alegre-torres-e-santa-cruz-do-sul/imoveis', s)]\n",
    "    for page in filtered_list_1:\n",
    "        driver.get(page)\n",
    "        #driver.maximize_window()\n",
    "        time.sleep(2)\n",
    "        print(driver.find_element_by_tag_name('h1').text)\n",
    "        print(driver.find_element_by_css_selector('.eQLrcK').text)\n",
    "    \n",
    "    \n",
    "    \n"
   ]
  },
  {
   "cell_type": "code",
   "execution_count": null,
   "id": "52436f1e",
   "metadata": {},
   "outputs": [],
   "source": []
  },
  {
   "cell_type": "code",
   "execution_count": null,
   "id": "6a7468b4",
   "metadata": {},
   "outputs": [],
   "source": []
  }
 ],
 "metadata": {
  "kernelspec": {
   "display_name": "Python 3 (ipykernel)",
   "language": "python",
   "name": "python3"
  },
  "language_info": {
   "codemirror_mode": {
    "name": "ipython",
    "version": 3
   },
   "file_extension": ".py",
   "mimetype": "text/x-python",
   "name": "python",
   "nbconvert_exporter": "python",
   "pygments_lexer": "ipython3",
   "version": "3.8.8"
  }
 },
 "nbformat": 4,
 "nbformat_minor": 5
}
